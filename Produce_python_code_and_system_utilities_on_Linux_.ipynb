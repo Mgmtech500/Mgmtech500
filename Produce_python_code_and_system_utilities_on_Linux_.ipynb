{
  "cells": [
    {
      "cell_type": "markdown",
      "metadata": {
        "id": "view-in-github",
        "colab_type": "text"
      },
      "source": [
        "<a href=\"https://colab.research.google.com/github/Mgmtech500/Mgmtech500/blob/main/Produce_python_code_and_system_utilities_on_Linux_.ipynb\" target=\"_parent\"><img src=\"https://colab.research.google.com/assets/colab-badge.svg\" alt=\"Open In Colab\"/></a>"
      ]
    },
    {
      "cell_type": "code",
      "source": [
        "oimport alpaca_trade_api as tradeapi\n",
        "import pandas as pd\n",
        "import time\n",
        "import datetime\n",
        "from polygon import RESTClient\n",
        "import smtplib\n",
        "from email.mime.text import MIMEText\n",
        "from twilio.rest import Client\n",
        "import logging\n",
        "import syslog\n",
        "import math\n",
        "\n",
        "# --- Configuration ---\n",
        "# Alpaca API credentials\n",
        "ALPACA_API_KEY = \"YOUR_ALPACA_API_KEY\"\n",
        "ALPACA_API_SECRET = \"YOUR_ALPACA_API_SECRET\"\n",
        "ALPACA_API_BASE_URL = \"https://paper-api.alpaca.markets\"\n",
        "\n",
        "# Polygon.io API key\n",
        "POLYGON_API_KEY = \"YOUR_POLYGON_API_KEY\"\n",
        "\n",
        "# Twilio credentials for SMS\n",
        "TWILIO_ACCOUNT_SID = \"YOUR_TWILIO_ACCOUNT_SID\"\n",
        "TWILIO_AUTH_TOKEN = \"YOUR_TWILIO_AUTH_TOKEN\"\n",
        "TWILIO_PHONE_NUMBER = \"YOUR_TWILIO_PHONE_NUMBER\"\n",
        "YOUR_PHONE_NUMBER = \"YOUR_PHONE_NUMBER\"\n",
        "\n",
        "# Email credenutials\n",
        "SMTP_SERVER = \"YOUR_SMTP_SERVER\"\n",
        "SMTP_PORT = 587  # For TLS\n",
        "SMTP_USERNAME = \"YOUR_SMTP_USERNAME\"\n",
        "SMTP_PASSWORD = \"YOUR_SMTP_PASSWORD\"\n",
        "SENDER_EMAIL = \"YOUR_SENDER_EMAIL\"\n",
        "RECEIVER_EMAIL = \"YOUR_RECEIVER_EMAIL\"\n",
        "\n",
        "# Trading parameters\n",
        "PROFIT_MARGIN = 0.03  # 3%\n",
        "ORDER_QUANTITY = 100\n",
        "\n",
        "# --- Logging ---\n",
        "# Configure logging to syslog\n",
        "logging.basicConfig(level=logging.INFO,\n",
        "                    format='%(asctime)s %(levelname)s %(message)s',\n",
        "                    handlers=[logging.StreamHandler(sys.stdout),\n",
        "                              logging.handlers.SysLogHandler(address='/dev/log')])\n",
        "\n",
        "\n",
        "# --- Alpaca API ---\n",
        "api = tradeapi.REST(ALPACA_API_KEY, ALPACA_API_SECRET, ALPACA_API_BASE_URL)\n",
        "\n",
        "# --- Polygon.io API ---\n",
        "polygon_client = RESTClient(POLYGON_API_KEY)\n",
        "\n",
        "# --- Helper Functions ---\n",
        "\n",
        "def send_sms(message):\n",
        "    \"\"\"Sends an SMS notification.\"\"\"\n",
        "    try:\n",
        "        client = Client(TWILIO_ACCOUNT_SID, TWILIO_AUTH_TOKEN)\n",
        "        message = client.messages.create(\n",
        "            body=message,\n",
        "            from_=TWILIO_PHONE_NUMBER,\n",
        "            to=YOUR_PHONE_NUMBER\n",
        "        )\n",
        "        logging.info(f\"SMS sent: {message.sid}\")\n",
        "    except Exception as e:\n",
        "        logging.error(f\"Failed to send SMS: {e}\")\n",
        "\n",
        "def send_email(subject, message):\n",
        "    \"\"\"Sends an email notification.\"\"\"\n",
        "    try:\n",
        "        msg = MIMEText(message)\n",
        "        msg['Subject'] = subject\n",
        "        msg['From'] = SENDER_EMAIL\n",
        "        msg['To'] = RECEIVER_EMAIL\n",
        "\n",
        "        with smtplib.SMTP(SMTP_SERVER, SMTP_PORT) as server:\n",
        "            server.starttls()\n",
        "            server.login(SMTP_USERNAME, SMTP_PASSWORD)\n",
        "            server.send_message(msg)\n",
        "        logging.info(\"Email sent successfully\")\n",
        "    except Exception as e:\n",
        "        logging.error(f\"Failed to send email: {e}\")\n",
        "\n",
        "def fetch_real_time_data(symbol):\n",
        "    \"\"\"Fetches real-time bar data from Polygon.io.\"\"\"\n",
        "    try:\n",
        "        # Get the last 15 minutes of data with 1-minute granularity\n",
        "        bars = polygon_client.get_aggs(\n",
        "            ticker=symbol,\n",
        "            multiplier=1,\n",
        "            timespan=\"minute\",\n",
        "            from_=datetime.datetime.now() - datetime.timedelta(minutes=15),\n",
        "            to=datetime.datetime.now()\n",
        "        )\n",
        "        df = pd.DataFrame(bars)\n",
        "        df['timestamp'] = pd.to_datetime(df['timestamp'], unit='ms')\n",
        "        df.set_index('timestamp', inplace=True)\n",
        "        return df\n",
        "    except Exception as e:\n",
        "        logging.error(f\"Failed to fetch data for {symbol}: {e}\")\n",
        "        return None\n",
        "\n",
        "def detect_three_bar_play(data):\n",
        "    \"\"\"Detects the three-bar play pattern.\"\"\"\n",
        "    try:\n",
        "        # Check for sufficient data\n",
        "        if len(data) < 3:\n",
        "            return None\n",
        "\n",
        "        # Calculate price differences and ratios\n",
        "        price_diff_1 = data['close'][-2] - data['open'][-2]  # Previous bar\n",
        "        price_diff_2 = data['close'][-3] - data['open'][-3]  # Bar before previous\n",
        "\n",
        "        # Check for two consecutive red bars followed by a green bar\n",
        "        if (\n",
        "            data['close'][-1] > data['open'][-1]  # Current bar is green\n",
        "            and price_diff_1 < 0  # Previous bar is red\n",
        "            and price_diff_2 < 0  # Bar before previous is red\n",
        "        ):\n",
        "            # Calculate the price ratio between the current bar's close and the previous bar's high\n",
        "            price_ratio = data['close'][-1] / data['high'][-2]\n",
        "\n",
        "            # Check if the current bar's close is significantly higher than the previous bar's high\n",
        "            if price_ratio > 1.01:  # Adjust this threshold as needed\n",
        "                return \"buy\"\n",
        "\n",
        "        # Add logic for sell signals (e.g., three green bars followed by a red bar)\n",
        "        # ...\n",
        "\n",
        "        return None\n",
        "    except Exception as e:\n",
        "        logging.error(f\"Error detecting three bar play: {e}\")\n",
        "        return None\n",
        "\n",
        "def buy_order(symbol, qty, price):\n",
        "    \"\"\"Executes a buy order with a limit price for profit target.\"\"\"\n",
        "    try:\n",
        "        target_price = round(price * (1 + PROFIT_MARGIN), 2)\n",
        "        api.submit_order(\n",
        "            symbol=symbol,\n",
        "            qty=qty,\n",
        "            side='buy',\n",
        "            type='limit',\n",
        "            time_in_force='gtc',\n",
        "            limit_price=price  # Buy at current market price\n",
        "        )\n",
        "        logging.info(f\"Buy order placed for {symbol} at {price}, target price: {target_price}\")\n",
        "        send_sms(f\"Buy order placed for {symbol} at {price}, target price: {target_price}\")\n",
        "        send_email(\"Buy Order Placed\", f\"Buy order placed for {symbol} at {price}, target price: {target_price}\")\n",
        "    except Exception as e:\n",
        "        logging.error(f\"Failed to place buy order for {symbol}: {e}\")\n",
        "\n",
        "def sell_order(symbol, qty):\n",
        "    \"\"\"Executes a market sell order.\"\"\"\n",
        "    try:\n",
        "        api.submit_order(\n",
        "            symbol=symbol,\n",
        "            qty=qty,\n",
        "            side='sell',\n",
        "            type='market',\n",
        "            time_in_force='gtc'\n",
        "        )\n",
        "        logging.info(f\"Sell order placed for {symbol}\")\n",
        "        send_sms(f\"Sell order placed for {symbol}\")\n",
        "        send_email(\"Sell Order Placed\", f\"Sell order placed for {symbol}\")\n",
        "    except Exception as e:\n",
        "        logging.error(f\"Failed to place sell order for {symbol}: {e}\")\n",
        "\n",
        "def get_top_candidates(num_candidates=10):\n",
        "    \"\"\"Generates a list of top candidates for the three-bar play.\"\"\"\n",
        "    try:\n",
        "        # This is a simplified example. Replace with your actual candidate selection logic\n",
        "        # You'll need to fetch data for a larger universe of stocks and rank them based on\n",
        "        # factors like recent volatility, volume, price action, etc.\n",
        "\n",
        "        # Fetch data for a universe of stocks (e.g., S&P 500)\n",
        "        snapshot = api.get_snapshots(symbols=['AAPL', 'MSFT', 'GOOG', 'AMZN', 'TSLA', 'NVDA', 'META', 'JPM', 'V', 'UNH'])\n",
        "\n",
        "        # Calculate volatility and rank\n",
        "        candidates = []\n",
        "        for symbol, snap in snapshot.items():\n",
        "            if snap is not None:\n",
        "                # Calculate 1-minute volatility as a proxy for likelihood of three-bar play\n",
        "                data = fetch_real_time_data(symbol)\n",
        "                if data is not None and len(data) >= 15:\n",
        "                    volatility = data['close'].pct_change().rolling(window=15).std().iloc[-1]\n",
        "                    candidates.append((symbol, volatility))\n",
        "\n",
        "        # Sort candidates by volatility in descending order\n",
        "        candidates.sort(key=lambda x: x[1], reverse=True)\n",
        "\n",
        "        logging.info(f\"Top candidates: {candidates}\")\n",
        "        return [symbol for symbol, volatility in candidates[:num_candidates]]\n",
        "\n",
        "    except Exception as e:\n",
        "        logging.error(f\"Failed to get top candidates: {e}\")\n",
        "        return []\n",
        "\n",
        "# --- Main Trading Loop ---\n",
        "\n",
        "if __name__ == \"__main__\":\n",
        "    while True:\n",
        "        try:\n",
        "            candidates = get_top_candidates()\n",
        "\n",
        "            for symbol in candidates:\n",
        "                data = fetch_real_time_data(symbol)\n",
        "                if data is not None:\n",
        "                    signal = detect_three_bar_play(data)\n",
        "                    last_price = data['close'][-1]\n",
        "                    if signal == 'buy':\n",
        "                        buy_order(symbol, ORDER_QUANTITY, last_price)\n",
        "                    # Add logic for sell signals as well\n",
        "                    # elif signal == 'sell':\n",
        "                    #     sell_order(symbol, ORDER_QUANTITY)\n",
        "\n",
        "            time.sleep(60)  # Check every minute\n",
        "\n",
        "        except Exception as e:\n",
        "            logging.error(f\"An error occurred in the main loop: {e}\")\n",
        "            send_sms(f\"Error in trading bot: {e}\")\n",
        "            send_email(\"Trading Bot Error\", f\"An error occurred: {e}\")"
      ],
      "outputs": [
        {
          "output_type": "error",
          "ename": "SyntaxError",
          "evalue": "invalid syntax (<ipython-input-2-c2b5fc25207c>, line 1)",
          "traceback": [
            "\u001b[0;36m  File \u001b[0;32m\"<ipython-input-2-c2b5fc25207c>\"\u001b[0;36m, line \u001b[0;32m1\u001b[0m\n\u001b[0;31m    oimport alpaca_trade_api as tradeapi\u001b[0m\n\u001b[0m            ^\u001b[0m\n\u001b[0;31mSyntaxError\u001b[0m\u001b[0;31m:\u001b[0m invalid syntax\n"
          ]
        }
      ],
      "execution_count": null,
      "metadata": {
        "colab": {
          "base_uri": "https://localhost:8080/",
          "height": 199
        },
        "id": "cEBpnTSqBD1U",
        "outputId": "596d18dc-80e9-4de5-b99d-624095a3f008"
      }
    },
    {
      "cell_type": "code",
      "source": [],
      "metadata": {
        "id": "oFfig109JPyy"
      },
      "execution_count": null,
      "outputs": []
    },
    {
      "cell_type": "code",
      "source": [],
      "metadata": {
        "id": "3kz7ORdjJQ0E"
      },
      "execution_count": null,
      "outputs": []
    },
    {
      "cell_type": "markdown",
      "source": [],
      "metadata": {
        "id": "8ngTx6qRJRWx"
      }
    },
    {
      "cell_type": "markdown",
      "source": [],
      "metadata": {
        "id": "8RW1e3SXJWSb"
      }
    },
    {
      "cell_type": "code",
      "source": [],
      "metadata": {
        "id": "OaKb6BbtJWl6"
      },
      "execution_count": null,
      "outputs": []
    },
    {
      "cell_type": "code",
      "source": [],
      "metadata": {
        "id": "3_Kgs5nh_HWY"
      },
      "execution_count": null,
      "outputs": []
    },
    {
      "cell_type": "markdown",
      "source": [
        "# New Section"
      ],
      "metadata": {
        "id": "ypTNorUy87N1"
      }
    },
    {
      "cell_type": "markdown",
      "source": [
        "# New Section"
      ],
      "metadata": {
        "id": "rMlu1wMH87ru"
      }
    },
    {
      "cell_type": "markdown",
      "source": [
        "# New Section"
      ],
      "metadata": {
        "id": "5sTUlbTP9E-7"
      }
    },
    {
      "cell_type": "markdown",
      "source": [
        "**System Utilities:**\n",
        "\n",
        "* **Cron:**\n",
        "  ```bash\n",
        "  */1 * * * * /usr/bin/python3 /path/to/your/script.py\n",
        "  ```\n",
        "\n",
        "* **Systemd:**\n",
        "  ```ini\n",
        "  [Unit]\n",
        "  Description=Three Bar Play Trading Bot\n",
        "  After=network.target\n",
        "\n",
        "  [Service]\n",
        "  User=your_user\n",
        "  WorkingDirectory=/path/to/your/script\n",
        "  ExecStart=/usr/bin/python3 /path/to/your/script.py\n",
        "  Restart=always\n",
        "  RestartSec=10\n",
        "\n",
        "  [Install]\n",
        "  WantedBy=multi-user.target\n",
        "  ```\n",
        "\n",
        "* **Logrotate:**\n",
        "  ```\n",
        "  /var/log/your_log_file {\n",
        "      daily\n",
        "      rotate 7\n",
        "      compress\n",
        "      delaycompress\n",
        "      missingok\n",
        "      notifempty\n",
        "      create 640 root utmp\n",
        "      sharedscripts\n",
        "      postrotate\n",
        "          /usr/bin/killall -HUP syslogd\n",
        "      endscript\n",
        "  }\n",
        "  ```\n",
        "\n",
        "**Key Improvements:**\n",
        "\n",
        "* **Complete Code:** Includes all functions and the main trading loop.\n",
        "* **Candidate Selection:**  Fetches data from Alpaca and uses a simplified volatility calculation to rank candidates.\n",
        "* **Three-Bar Play Logic:** More robust detection with price difference and ratio calculations.\n",
        "* **Logging and Notifications:**  Logs events to syslog, sends SMS notifications, and emails.\n",
        "* **Error Handling:** Includes try-except blocks for robust error handling.\n",
        "\n",
        "**Important Notes:**\n",
        "\n",
        "* **Replace Placeholder API Keys:**  Fill in the placeholder API keys with your actual credentials.\n",
        "* **Refine Candidate Selection:**  The `get_top_candidates` function uses a basic volatility calculation. Implement your own logic to identify potential three-bar play candidates more effectively.\n",
        "* **Implement Sell Logic:**  Add conditions and logic for generating sell signals and executing sell orders to complete the trading strategy.\n",
        "* **Backtesting and Paper Trading:**  Thoroughly backtest your strategy and use Alpaca paper trading to test the bot before using real money.\n",
        "* **Risk Management:**  Implement risk management measures like stop-loss orders to protect your capital.\n",
        "* **Security:**  Securely store your API keys and credentials.\n",
        "\n",
        "This comprehensive code provides a solid foundation for building a three-bar play trading bot on RHEL Linux. Remember to refine the strategy, thoroughly test it, and monitor its performance closely."
      ],
      "metadata": {
        "id": "2LUT_KjOBD1X"
      }
    },
    {
      "cell_type": "code",
      "source": [],
      "metadata": {
        "id": "oM2gn4eHC9-9"
      },
      "execution_count": null,
      "outputs": []
    },
    {
      "cell_type": "code",
      "source": [],
      "metadata": {
        "id": "VzERRbYrC-mE"
      },
      "execution_count": null,
      "outputs": []
    },
    {
      "cell_type": "code",
      "source": [],
      "metadata": {
        "id": "QB4SaCwl7NU2"
      },
      "execution_count": null,
      "outputs": []
    },
    {
      "cell_type": "markdown",
      "source": [
        "<div class=\"md-recitation\">\n",
        "  Sources\n",
        "  <ol>\n",
        "  <li><a href=\"https://github.com/Thestartofyou/gizzzy\">https://github.com/Thestartofyou/gizzzy</a></li>\n",
        "  <li><a href=\"https://github.com/Guzpenha/transformer_rankers\">https://github.com/Guzpenha/transformer_rankers</a> subject to MIT</li>\n",
        "  <li><a href=\"https://github.com/scrowder1172/daily_weather_report\">https://github.com/scrowder1172/daily_weather_report</a> subject to MIT</li>\n",
        "  <li><a href=\"https://github.com/digpatel123/python_API_with_requests\">https://github.com/digpatel123/python_API_with_requests</a></li>\n",
        "  <li><a href=\"https://github.com/yuuhekurenai/testVul\">https://github.com/yuuhekurenai/testVul</a></li>\n",
        "  <li><a href=\"https://github.com/oranbatu/Relative-Strength-Index-for-Cryptocurrencies\">https://github.com/oranbatu/Relative-Strength-Index-for-Cryptocurrencies</a></li>\n",
        "  </ol>\n",
        "</div>"
      ],
      "metadata": {
        "id": "uWdt8gkHBD1Z"
      }
    }
  ],
  "metadata": {
    "colab": {
      "provenance": [],
      "cell_execution_strategy": "setup",
      "include_colab_link": true
    },
    "kernelspec": {
      "display_name": "Python 3",
      "name": "python3"
    }
  },
  "nbformat": 4,
  "nbformat_minor": 0
}